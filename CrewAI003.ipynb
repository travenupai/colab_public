{
  "nbformat": 4,
  "nbformat_minor": 0,
  "metadata": {
    "colab": {
      "private_outputs": true,
      "provenance": [],
      "authorship_tag": "ABX9TyOEfPkQ/cUk8qi2yvUvADpU",
      "include_colab_link": true
    },
    "kernelspec": {
      "name": "python3",
      "display_name": "Python 3"
    },
    "language_info": {
      "name": "python"
    }
  },
  "cells": [
    {
      "cell_type": "markdown",
      "metadata": {
        "id": "view-in-github",
        "colab_type": "text"
      },
      "source": [
        "<a href=\"https://colab.research.google.com/github/travenupai/colab_public/blob/main/CrewAI003.ipynb\" target=\"_parent\"><img src=\"https://colab.research.google.com/assets/colab-badge.svg\" alt=\"Open In Colab\"/></a>"
      ]
    },
    {
      "cell_type": "code",
      "execution_count": null,
      "metadata": {
        "id": "NteLfV1qxEOL"
      },
      "outputs": [],
      "source": [
        "!pip install crewai\n"
      ]
    },
    {
      "cell_type": "code",
      "source": [
        "import os\n",
        "\n",
        "os.environ[\"SERPER_API_KEY\"] = \"\"\n",
        "os.environ[\"OPENAI_API_KEY\"] = \"\"\n"
      ],
      "metadata": {
        "id": "ordFgMc8yEan"
      },
      "execution_count": null,
      "outputs": []
    },
    {
      "cell_type": "code",
      "source": [],
      "metadata": {
        "id": "R0tIVe4vzFLU"
      },
      "execution_count": null,
      "outputs": []
    },
    {
      "cell_type": "code",
      "source": [
        "# Configurando a ferramenta SerperDevTool\n",
        "search_tool = SerperDevTool()\n",
        "\n",
        "# Criando um agente pesquisador\n",
        "researcher = Agent(\n",
        "  role='Pesquisador',\n",
        "  goal='Descobrir tecnologias inovadoras em {topic}',\n",
        "  verbose=True,\n",
        "  memory=True,\n",
        "  backstory=\"Você é um pesquisador experiente em busca de novas tecnologias revolucionárias.\",\n",
        "  tools=[search_tool]\n",
        ")\n",
        "\n",
        "# Criando uma tarefa de pesquisa\n",
        "research_task = Task(\n",
        "  description=\"Identificar a próxima grande tendência em {topic}. Focar em identificar os prós e contras e a narrativa geral.\",\n",
        "  expected_output='Um relatório de 3 parágrafos sobre as últimas tendências em IA.',\n",
        "  tools=[search_tool],\n",
        "  agent=researcher,\n",
        ")\n",
        "\n",
        "# Formando a equipe\n",
        "crew = Crew(\n",
        "  agents=[researcher],\n",
        "  tasks=[research_task],\n",
        "  process=Process.sequential\n",
        ")\n",
        "\n",
        "# Executando a equipe\n",
        "result = crew.kickoff(inputs={'topic': 'IA na saúde'})\n",
        "print(result)\n"
      ],
      "metadata": {
        "id": "F8ICHhw1yfeA"
      },
      "execution_count": null,
      "outputs": []
    },
    {
      "cell_type": "code",
      "source": [
        "!pip install crewai\n",
        "!pip install crewai-tools\n"
      ],
      "metadata": {
        "id": "8ctUczTPyxtl"
      },
      "execution_count": null,
      "outputs": []
    },
    {
      "cell_type": "code",
      "source": [
        "from crewai import Agent, Task, Crew, Process\n",
        "from crewai_tools import SerperDevTool\n",
        "\n",
        "# Verificar a versão instalada\n",
        "import crewai\n",
        "print(crewai.__version__)\n"
      ],
      "metadata": {
        "id": "A1K7sYpozNVt"
      },
      "execution_count": null,
      "outputs": []
    },
    {
      "cell_type": "code",
      "source": [
        "# Configurando a ferramenta SerperDevTool\n",
        "search_tool = SerperDevTool()\n",
        "\n",
        "# Criando um agente pesquisador\n",
        "researcher = Agent(\n",
        "  role='Pesquisador',\n",
        "  goal='Descobrir tecnologias inovadoras em {topic}',\n",
        "  verbose=True,\n",
        "  memory=True,\n",
        "  backstory=\"Você é um pesquisador experiente em busca de novas tecnologias revolucionárias.\",\n",
        "  tools=[search_tool]\n",
        ")\n",
        "\n",
        "# Criando uma tarefa de pesquisa\n",
        "research_task = Task(\n",
        "  description=\"Identificar a próxima grande tendência em {topic}. Focar em identificar os prós e contras e a narrativa geral.\",\n",
        "  expected_output='Um relatório de 3 parágrafos sobre as últimas tendências em IA.',\n",
        "  tools=[search_tool],\n",
        "  agent=researcher,\n",
        ")\n",
        "\n",
        "# Formando a equipe\n",
        "crew = Crew(\n",
        "  agents=[researcher],\n",
        "  tasks=[research_task],\n",
        "  process=Process.sequential\n",
        ")\n",
        "\n",
        "# Executando a equipe\n",
        "result = crew.kickoff(inputs={'topic': 'IA na saúde'})\n",
        "print(result)\n"
      ],
      "metadata": {
        "id": "h431HhMVzS-A"
      },
      "execution_count": null,
      "outputs": []
    }
  ]
}